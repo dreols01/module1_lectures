{
  "cells": [
    {
      "cell_type": "markdown",
      "metadata": {
        "id": "view-in-github",
        "colab_type": "text"
      },
      "source": [
        "<a href=\"https://colab.research.google.com/github/dreols01/module1_lectures/blob/main/Copy_of_1_6_introduction_to_piping.ipynb\" target=\"_parent\"><img src=\"https://colab.research.google.com/assets/colab-badge.svg\" alt=\"Open In Colab\"/></a>"
      ]
    },
    {
      "cell_type": "code",
      "execution_count": 1,
      "metadata": {
        "id": "QmBXEB34Q0z9"
      },
      "outputs": [],
      "source": [
        "import rpy2\n",
        "%load_ext rpy2.ipython"
      ]
    },
    {
      "cell_type": "code",
      "execution_count": 2,
      "metadata": {
        "id": "e4rsI6jDQ0z-",
        "colab": {
          "base_uri": "https://localhost:8080/"
        },
        "outputId": "ab1f9a57-6bce-486a-aabf-b75b38b5af61"
      },
      "outputs": [
        {
          "output_type": "stream",
          "name": "stderr",
          "text": [
            "WARNING:rpy2.rinterface_lib.callbacks:R[write to console]: \n",
            "Attaching package: ‘dplyr’\n",
            "\n",
            "\n",
            "WARNING:rpy2.rinterface_lib.callbacks:R[write to console]: The following objects are masked from ‘package:stats’:\n",
            "\n",
            "    filter, lag\n",
            "\n",
            "\n",
            "WARNING:rpy2.rinterface_lib.callbacks:R[write to console]: The following objects are masked from ‘package:base’:\n",
            "\n",
            "    intersect, setdiff, setequal, union\n",
            "\n",
            "\n"
          ]
        }
      ],
      "source": [
        "%%R\n",
        "library(dplyr)"
      ]
    },
    {
      "cell_type": "markdown",
      "metadata": {
        "id": "RC2u3s2wQ0z_"
      },
      "source": [
        "# Introduction to piping"
      ]
    },
    {
      "cell_type": "markdown",
      "metadata": {
        "id": "-xjdyGK8Q00A"
      },
      "source": [
        "## Review -- Piping with `dplyr`\n",
        "\n",
        "You might be familiar with piping in R using the `%>%` operator from `dplyr`"
      ]
    },
    {
      "cell_type": "code",
      "execution_count": 3,
      "metadata": {
        "id": "DJVUcsvHQ00B",
        "outputId": "dfbc9088-de5a-4c3a-ddfd-7ea0d77dceee",
        "colab": {
          "base_uri": "https://localhost:8080/"
        }
      },
      "outputs": [
        {
          "output_type": "stream",
          "name": "stdout",
          "text": [
            "[1] \"1.77\"\n"
          ]
        }
      ],
      "source": [
        "%%R\n",
        "pi %>% \n",
        "sqrt %>% \n",
        "round(2) %>% \n",
        "as.character"
      ]
    },
    {
      "cell_type": "markdown",
      "metadata": {
        "id": "A4SSOisnQ00B"
      },
      "source": [
        "## Making `pipeable` functions using `composable`\n",
        "\n",
        "To get functions to be pipeable in Python, we need to wrap them in `pipeable` from the `composable` module"
      ]
    },
    {
      "cell_type": "code",
      "execution_count": 4,
      "metadata": {
        "id": "ygl9a2ssQ00B",
        "colab": {
          "base_uri": "https://localhost:8080/"
        },
        "outputId": "3652ca9b-c314-4606-f780-b668760d625d"
      },
      "outputs": [
        {
          "output_type": "stream",
          "name": "stdout",
          "text": [
            "Looking in indexes: https://pypi.org/simple, https://us-python.pkg.dev/colab-wheels/public/simple/\n",
            "Collecting composable\n",
            "  Downloading composable-0.2.5-py3-none-any.whl (7.3 kB)\n",
            "Collecting python-forge<19.0,>=18.6\n",
            "  Downloading python_forge-18.6.0-py35-none-any.whl (31 kB)\n",
            "Collecting toolz<0.12.0,>=0.11.1\n",
            "  Downloading toolz-0.11.2-py3-none-any.whl (55 kB)\n",
            "\u001b[K     |████████████████████████████████| 55 kB 2.2 MB/s \n",
            "\u001b[?25hInstalling collected packages: toolz, python-forge, composable\n",
            "  Attempting uninstall: toolz\n",
            "    Found existing installation: toolz 0.12.0\n",
            "    Uninstalling toolz-0.12.0:\n",
            "      Successfully uninstalled toolz-0.12.0\n",
            "Successfully installed composable-0.2.5 python-forge-18.6.0 toolz-0.11.2\n"
          ]
        }
      ],
      "source": [
        "!pip install composable # Install if missing or in colab"
      ]
    },
    {
      "cell_type": "code",
      "execution_count": 5,
      "metadata": {
        "id": "4GKLQcPIQ00C"
      },
      "outputs": [],
      "source": [
        "from composable import pipeable"
      ]
    },
    {
      "cell_type": "markdown",
      "metadata": {
        "id": "lWrrgo5OQ00C"
      },
      "source": [
        "## Making some pipeable functions\n",
        "\n",
        "Before I can recreate the R example, I need to make some pipeable functions."
      ]
    },
    {
      "cell_type": "markdown",
      "metadata": {
        "id": "SSi9sW1AQ00C"
      },
      "source": [
        "## Making a pipeable `sqrt`\n",
        "\n",
        "To make an existing function pipeable, I need to wrap or *decorate* it with `pipeable`."
      ]
    },
    {
      "cell_type": "code",
      "execution_count": 6,
      "metadata": {
        "id": "n1XARDReQ00C"
      },
      "outputs": [],
      "source": [
        "import math as m\n",
        "sqrt = pipeable(m.sqrt)"
      ]
    },
    {
      "cell_type": "code",
      "execution_count": 7,
      "metadata": {
        "id": "CSFZyTw5Q00D",
        "outputId": "ffc18ccf-aaea-4063-afbe-17256170f3aa",
        "colab": {
          "base_uri": "https://localhost:8080/"
        }
      },
      "outputs": [
        {
          "output_type": "execute_result",
          "data": {
            "text/plain": [
              "1.4142135623730951"
            ]
          },
          "metadata": {},
          "execution_count": 7
        }
      ],
      "source": [
        "2 >> sqrt"
      ]
    },
    {
      "cell_type": "markdown",
      "metadata": {
        "id": "tVzZN3kDQ00D"
      },
      "source": [
        "## Some common functions are not actually functions\n",
        "\n",
        "Some Python \"functions\" are not actually functions, but type constructors.  Examples include `str`, `float`, `int`, `list`, etc.  This also includes the most powerful type constructor of them all, `type`"
      ]
    },
    {
      "cell_type": "code",
      "execution_count": 8,
      "metadata": {
        "id": "9Ek-YnTvQ00D",
        "outputId": "090e193d-55d8-4f9c-9265-bb5827ba4c05",
        "colab": {
          "base_uri": "https://localhost:8080/"
        }
      },
      "outputs": [
        {
          "output_type": "execute_result",
          "data": {
            "text/plain": [
              "type"
            ]
          },
          "metadata": {},
          "execution_count": 8
        }
      ],
      "source": [
        "type(str)"
      ]
    },
    {
      "cell_type": "code",
      "execution_count": 9,
      "metadata": {
        "id": "rBceqv7AQ00E",
        "outputId": "8a6ca085-c26d-406e-c90b-8b2052a39dec",
        "colab": {
          "base_uri": "https://localhost:8080/"
        }
      },
      "outputs": [
        {
          "output_type": "execute_result",
          "data": {
            "text/plain": [
              "1.8708286933869707"
            ]
          },
          "metadata": {},
          "execution_count": 9
        }
      ],
      "source": [
        "wont_always_work = pipeable(float)\n",
        "3.5 >> sqrt >> wont_always_work"
      ]
    },
    {
      "cell_type": "markdown",
      "metadata": {
        "id": "RdKD2VlnQ00E"
      },
      "source": [
        "## Use a `lambda` to create a pipeable type conversion function\n",
        "\n",
        "To be safe, we need to wrap type constructors in a lambda, THEN `pipeable`"
      ]
    },
    {
      "cell_type": "code",
      "execution_count": 10,
      "metadata": {
        "id": "MgtyPRwWQ00E"
      },
      "outputs": [],
      "source": [
        "toStr = pipeable(lambda n: str(n))"
      ]
    },
    {
      "cell_type": "code",
      "execution_count": 11,
      "metadata": {
        "id": "AQLykTYEQ00F",
        "outputId": "ed9c367a-361b-46ad-8208-b08a5d9defa1",
        "colab": {
          "base_uri": "https://localhost:8080/",
          "height": 37
        }
      },
      "outputs": [
        {
          "output_type": "execute_result",
          "data": {
            "text/plain": [
              "'3.5'"
            ],
            "application/vnd.google.colaboratory.intrinsic+json": {
              "type": "string"
            }
          },
          "metadata": {},
          "execution_count": 11
        }
      ],
      "source": [
        "3.5 >> toStr"
      ]
    },
    {
      "cell_type": "markdown",
      "metadata": {
        "id": "_fAvodJMQ00F"
      },
      "source": [
        "## Piping and multiple arguments\n",
        "\n",
        "Piped in data is inserted **on the right**"
      ]
    },
    {
      "cell_type": "code",
      "execution_count": 12,
      "metadata": {
        "id": "UwcEIf7tQ00F"
      },
      "outputs": [],
      "source": [
        "test = pipeable(lambda a, b: f\"first:{a} second:{b}\")"
      ]
    },
    {
      "cell_type": "code",
      "execution_count": 13,
      "metadata": {
        "id": "tGcckRIrQ00G",
        "outputId": "7fb8d6bd-b758-4df4-d304-cb7c240143ba",
        "colab": {
          "base_uri": "https://localhost:8080/",
          "height": 37
        }
      },
      "outputs": [
        {
          "output_type": "execute_result",
          "data": {
            "text/plain": [
              "'first:1 second:2'"
            ],
            "application/vnd.google.colaboratory.intrinsic+json": {
              "type": "string"
            }
          },
          "metadata": {},
          "execution_count": 13
        }
      ],
      "source": [
        "test(1,2)"
      ]
    },
    {
      "cell_type": "code",
      "execution_count": 14,
      "metadata": {
        "id": "_7a0rRNAQ00G",
        "outputId": "fd32e1b0-c45c-4eb1-9564-64afbe25f900",
        "colab": {
          "base_uri": "https://localhost:8080/",
          "height": 37
        }
      },
      "outputs": [
        {
          "output_type": "execute_result",
          "data": {
            "text/plain": [
              "'first:2 second:1'"
            ],
            "application/vnd.google.colaboratory.intrinsic+json": {
              "type": "string"
            }
          },
          "metadata": {},
          "execution_count": 14
        }
      ],
      "source": [
        "1 >> test(2)"
      ]
    },
    {
      "cell_type": "code",
      "execution_count": 15,
      "metadata": {
        "id": "crkWOQokQ00H",
        "outputId": "cf34e9c3-15bd-4c2b-d6c3-3b1037ae6443",
        "colab": {
          "base_uri": "https://localhost:8080/",
          "height": 37
        }
      },
      "outputs": [
        {
          "output_type": "execute_result",
          "data": {
            "text/plain": [
              "'first:1 second:2'"
            ],
            "application/vnd.google.colaboratory.intrinsic+json": {
              "type": "string"
            }
          },
          "metadata": {},
          "execution_count": 15
        }
      ],
      "source": [
        "2 >> test(1)"
      ]
    },
    {
      "cell_type": "markdown",
      "metadata": {
        "id": "gxsHn9hhQ00H"
      },
      "source": [
        "## Rearranging argument order\n",
        "\n",
        "The default `round` function uses `round(number, digits)`"
      ]
    },
    {
      "cell_type": "code",
      "execution_count": 16,
      "metadata": {
        "id": "zFx8JjkBQ00H",
        "outputId": "460a9ce4-5a99-4e43-b1d6-52e519ee1eed",
        "colab": {
          "base_uri": "https://localhost:8080/"
        }
      },
      "outputs": [
        {
          "output_type": "execute_result",
          "data": {
            "text/plain": [
              "3.14"
            ]
          },
          "metadata": {},
          "execution_count": 16
        }
      ],
      "source": [
        "round(m.pi, 2)"
      ]
    },
    {
      "cell_type": "markdown",
      "metadata": {
        "id": "clxG_bM-Q00I"
      },
      "source": [
        "For piping, it is more convenient to switch the order."
      ]
    },
    {
      "cell_type": "code",
      "execution_count": 17,
      "metadata": {
        "id": "o_1Z-jIjQ00I"
      },
      "outputs": [],
      "source": [
        "rnd = pipeable(lambda d, n: round(n, d))"
      ]
    },
    {
      "cell_type": "code",
      "execution_count": 18,
      "metadata": {
        "id": "BQ1mpUjYQ00I",
        "outputId": "a31d97d4-5542-41a4-fc16-560c0d9462d7",
        "colab": {
          "base_uri": "https://localhost:8080/"
        }
      },
      "outputs": [
        {
          "output_type": "execute_result",
          "data": {
            "text/plain": [
              "3.14"
            ]
          },
          "metadata": {},
          "execution_count": 18
        }
      ],
      "source": [
        "m.pi >> rnd(2) "
      ]
    },
    {
      "cell_type": "markdown",
      "metadata": {
        "id": "wPLP1tWKQ00J"
      },
      "source": [
        "## Recreating the R example"
      ]
    },
    {
      "cell_type": "code",
      "execution_count": 19,
      "metadata": {
        "id": "-zSu9ArNQ00J",
        "outputId": "33822e82-ee82-41ee-a2dd-a27891d04396",
        "colab": {
          "base_uri": "https://localhost:8080/",
          "height": 37
        }
      },
      "outputs": [
        {
          "output_type": "execute_result",
          "data": {
            "text/plain": [
              "'1.77'"
            ],
            "application/vnd.google.colaboratory.intrinsic+json": {
              "type": "string"
            }
          },
          "metadata": {},
          "execution_count": 19
        }
      ],
      "source": [
        "m.pi >> sqrt >> rnd(2) >> toStr"
      ]
    },
    {
      "cell_type": "code",
      "execution_count": 24,
      "metadata": {
        "scrolled": true,
        "id": "x6RwX-_VQ00J",
        "outputId": "24b6a88a-b120-4ae3-f3a8-979afddddd1a",
        "colab": {
          "base_uri": "https://localhost:8080/",
          "height": 130
        }
      },
      "outputs": [
        {
          "output_type": "error",
          "ename": "SyntaxError",
          "evalue": "ignored",
          "traceback": [
            "\u001b[0;36m  File \u001b[0;32m\"<ipython-input-24-569c87c237b7>\"\u001b[0;36m, line \u001b[0;32m1\u001b[0m\n\u001b[0;31m    m.pi >>\u001b[0m\n\u001b[0m           ^\u001b[0m\n\u001b[0;31mSyntaxError\u001b[0m\u001b[0;31m:\u001b[0m invalid syntax\n"
          ]
        }
      ],
      "source": [
        "m.pi >>\n",
        "sqrt >>\n",
        "rnd(2) >>\n",
        "toStr"
      ]
    },
    {
      "cell_type": "markdown",
      "metadata": {
        "id": "lomcXAxoQ00J"
      },
      "source": [
        "## Hint 1: Wrap multi-line piped expressions in parentheses"
      ]
    },
    {
      "cell_type": "code",
      "execution_count": 25,
      "metadata": {
        "id": "rN0FaUmpQ00K",
        "outputId": "bf0adaf2-9e9c-407e-ab23-5aee80514daa",
        "colab": {
          "base_uri": "https://localhost:8080/",
          "height": 37
        }
      },
      "outputs": [
        {
          "output_type": "execute_result",
          "data": {
            "text/plain": [
              "'1.77'"
            ],
            "application/vnd.google.colaboratory.intrinsic+json": {
              "type": "string"
            }
          },
          "metadata": {},
          "execution_count": 25
        }
      ],
      "source": [
        "(m.pi >> \n",
        " sqrt >> \n",
        " rnd(2) >> \n",
        " toStr)"
      ]
    },
    {
      "cell_type": "markdown",
      "metadata": {
        "id": "YywZswQ8Q00K"
      },
      "source": [
        "## Hint 2: Put the pipes at the start of a line"
      ]
    },
    {
      "cell_type": "code",
      "execution_count": 26,
      "metadata": {
        "id": "Qq56pTD9Q00K",
        "outputId": "1b6080e3-6d03-4e2e-ea68-3c04b84ca17f",
        "colab": {
          "base_uri": "https://localhost:8080/",
          "height": 37
        }
      },
      "outputs": [
        {
          "output_type": "execute_result",
          "data": {
            "text/plain": [
              "'1.77'"
            ],
            "application/vnd.google.colaboratory.intrinsic+json": {
              "type": "string"
            }
          },
          "metadata": {},
          "execution_count": 26
        }
      ],
      "source": [
        "(m.pi \n",
        " >> sqrt \n",
        " >> rnd(2) \n",
        " >> toStr\n",
        ")"
      ]
    },
    {
      "cell_type": "markdown",
      "metadata": {
        "id": "AL_Vwz87Q00K"
      },
      "source": [
        "## Pipeable functions return functions when partially complete\n",
        "\n",
        "Note that `pipeable` functions are curried, meaning they return functions if not provided with enough arguments."
      ]
    },
    {
      "cell_type": "code",
      "execution_count": 27,
      "metadata": {
        "id": "0FiVFfT4Q00K"
      },
      "outputs": [],
      "source": [
        "threeArgs= pipeable(lambda a, b, c: f\"first:{a} second:{b} third:{c}\")"
      ]
    },
    {
      "cell_type": "code",
      "execution_count": 30,
      "metadata": {
        "scrolled": true,
        "id": "zZAXvut5Q00K",
        "outputId": "ad4b4ccf-9064-49bd-c8c7-3de2125799b4",
        "colab": {
          "base_uri": "https://localhost:8080/"
        }
      },
      "outputs": [
        {
          "output_type": "execute_result",
          "data": {
            "text/plain": [
              "<function <lambda> at 0x7fddfb672950>"
            ]
          },
          "metadata": {},
          "execution_count": 30
        }
      ],
      "source": [
        "threeArgs(\"Bob\")"
      ]
    },
    {
      "cell_type": "code",
      "execution_count": 31,
      "metadata": {
        "scrolled": true,
        "id": "GnMkkvYZQ00K",
        "outputId": "eb63af63-ef90-40d6-a5af-ac127322ad1c",
        "colab": {
          "base_uri": "https://localhost:8080/"
        }
      },
      "outputs": [
        {
          "output_type": "execute_result",
          "data": {
            "text/plain": [
              "<function <lambda> at 0x7fddfb672950>"
            ]
          },
          "metadata": {},
          "execution_count": 31
        }
      ],
      "source": [
        "threeArgs(\"Bob\", \"Alice\")"
      ]
    },
    {
      "cell_type": "markdown",
      "metadata": {
        "id": "XEVCxSPmQ00L"
      },
      "source": [
        "## We can save and call a partial functions "
      ]
    },
    {
      "cell_type": "code",
      "execution_count": 32,
      "metadata": {
        "id": "j_comC25Q00L"
      },
      "outputs": [],
      "source": [
        "bob = threeArgs(\"Bob\")"
      ]
    },
    {
      "cell_type": "code",
      "execution_count": 33,
      "metadata": {
        "id": "-m1kHRtcQ00L",
        "outputId": "5a0667d1-456d-4d36-daf8-e9c9459f073f",
        "colab": {
          "base_uri": "https://localhost:8080/",
          "height": 37
        }
      },
      "outputs": [
        {
          "output_type": "execute_result",
          "data": {
            "text/plain": [
              "'first:Bob second:2 third:3'"
            ],
            "application/vnd.google.colaboratory.intrinsic+json": {
              "type": "string"
            }
          },
          "metadata": {},
          "execution_count": 33
        }
      ],
      "source": [
        "bob(2,3)"
      ]
    },
    {
      "cell_type": "code",
      "execution_count": 34,
      "metadata": {
        "id": "IlqregbMQ00L"
      },
      "outputs": [],
      "source": [
        "bobAndAlice = bob(\"Alice\")"
      ]
    },
    {
      "cell_type": "code",
      "execution_count": 35,
      "metadata": {
        "scrolled": true,
        "id": "u7FIBOLuQ00L",
        "outputId": "16f70ce2-3359-437f-9632-65eff50f2fb6",
        "colab": {
          "base_uri": "https://localhost:8080/",
          "height": 37
        }
      },
      "outputs": [
        {
          "output_type": "execute_result",
          "data": {
            "text/plain": [
              "'first:Bob second:Alice third:3'"
            ],
            "application/vnd.google.colaboratory.intrinsic+json": {
              "type": "string"
            }
          },
          "metadata": {},
          "execution_count": 35
        }
      ],
      "source": [
        "bobAndAlice(3)"
      ]
    },
    {
      "cell_type": "markdown",
      "metadata": {
        "id": "Z-AGeaX5Q00L"
      },
      "source": [
        "## Example\n",
        "\n",
        "Suppose that I round to two decimal places A LOT.  In this case it might be nice to have a specialized function"
      ]
    },
    {
      "cell_type": "code",
      "execution_count": 36,
      "metadata": {
        "id": "ijn-7xC1Q00L"
      },
      "outputs": [],
      "source": [
        "rndToTwo = rnd(2)"
      ]
    },
    {
      "cell_type": "code",
      "execution_count": 37,
      "metadata": {
        "id": "kcLaTM9DQ00L",
        "outputId": "9bab1fe7-560b-4d66-bbd0-3e0957386b09",
        "colab": {
          "base_uri": "https://localhost:8080/"
        }
      },
      "outputs": [
        {
          "output_type": "execute_result",
          "data": {
            "text/plain": [
              "3.14"
            ]
          },
          "metadata": {},
          "execution_count": 37
        }
      ],
      "source": [
        "m.pi >> rndToTwo"
      ]
    },
    {
      "cell_type": "markdown",
      "metadata": {
        "id": "OnUGzLaqQ00L"
      },
      "source": [
        "<font color=\"red\"><h1>Exercise 3</h1></font>\n",
        "\n",
        "Here is a problem that you solved in a previous activity:\n",
        "\n",
        "    The function `random` from the `random` module can be used to generate numbers between 0 and 1 at random. We want to return numbers between \n",
        "    $a$ and $b$ at random, which can be accomplished using the formula $V = (b - a)*random() + a$.\n",
        "\n",
        "    Write a lambda function that takes `a` and `b` as arguments are returns a number between `a` and `b` at random.\n",
        "   \n",
        "Note that we can name the parts the process as follows:\n",
        "\n",
        "> b takeAway a >> times a random number >> subtract a\n",
        "\n",
        "Let's redo this problem, but this time with piping; where we will make a pipeable function to perform each task."
      ]
    },
    {
      "cell_type": "code",
      "source": [
        "from random import random"
      ],
      "metadata": {
        "id": "Vg5wIESbZX0o"
      },
      "execution_count": 78,
      "outputs": []
    },
    {
      "cell_type": "code",
      "execution_count": 94,
      "metadata": {
        "id": "Fcoty7l_Q00M"
      },
      "outputs": [],
      "source": [
        "takeAway = pipeable(lambda a, b: (b - a))\n",
        "timesRandom = pipeable(lambda c: random() )\n",
        "add = pipeable(lambda x,y: y + x)"
      ]
    },
    {
      "cell_type": "code",
      "execution_count": 95,
      "metadata": {
        "id": "yY6D5tbgQ00M"
      },
      "outputs": [],
      "source": [
        "def uniform(a, b):\n",
        "    return (b\n",
        "            >> takeAway(a)\n",
        "            >> timesRandom\n",
        "            >> add(a)\n",
        "            )"
      ]
    },
    {
      "cell_type": "code",
      "execution_count": 106,
      "metadata": {
        "id": "-5ooi8IcQ00M"
      },
      "outputs": [],
      "source": [
        "assert 1 <= uniform(1,2) <= 2  "
      ]
    }
  ],
  "metadata": {
    "kernelspec": {
      "display_name": "Python 3",
      "language": "python",
      "name": "python3"
    },
    "language_info": {
      "codemirror_mode": {
        "name": "ipython",
        "version": 3
      },
      "file_extension": ".py",
      "mimetype": "text/x-python",
      "name": "python",
      "nbconvert_exporter": "python",
      "pygments_lexer": "ipython3",
      "version": "3.7.2"
    },
    "colab": {
      "provenance": [],
      "include_colab_link": true
    }
  },
  "nbformat": 4,
  "nbformat_minor": 0
}